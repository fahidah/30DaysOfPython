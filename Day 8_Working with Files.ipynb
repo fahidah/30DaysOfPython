{
 "cells": [
  {
   "cell_type": "markdown",
   "metadata": {},
   "source": [
    "## WORKING WITH FILES\n",
    "\n",
    "### A text file can be thought of as a sequence of lines. Before you can work on any file, read or write, you must first open the file.\n",
    "\n",
    "### For this script I will be using the \"with\" statement which allows our file to automatically close when it is no longer in use.\n"
   ]
  },
  {
   "cell_type": "markdown",
   "metadata": {},
   "source": [
    "### READING A FILE\n",
    "\n",
    "#### The following operation can be used with the open()\n",
    "##### r = read only mode\n",
    "##### w = write only mode\n",
    "##### a = append mode\n",
    "##### r+ = read and write\n",
    "##### rb = read binary data\n",
    "##### wb = write binary data"
   ]
  },
  {
   "cell_type": "code",
   "execution_count": 1,
   "metadata": {},
   "outputs": [],
   "source": [
    "#problem with apostrophe words like you'll is rendered as youAEll...something like that\n",
    "\n",
    "filename = \"file.txt\"\n",
    "with open(filename) as file_object:\n",
    "    content = file_object.read()\n",
    "    #print(content)"
   ]
  },
  {
   "cell_type": "code",
   "execution_count": 2,
   "metadata": {},
   "outputs": [
    {
     "name": "stdout",
     "output_type": "stream",
     "text": [
      "Now that you have mastered the basic skills you need to write organized programs that are easy to use,\n",
      "it is time to think about making your programs even more relevant and usable.\n",
      "In this chapter you will learn to work with files so your programs can quickly analyze lots of data.\n",
      "\n",
      "You will learn to handle errors so your programs do not crash when they encounter unexpected situations.\n",
      "You will learn about exceptions, which are special objects Python creates to manage errors that arise while a program is running.\n",
      "You will also learn about the json module, which allows you to save user data so it is not lost when your program stops running.\n",
      "\n",
      "Learning to work with files and save data will make your programs\n",
      "easier for people to use. Users will be able to choose what data to enter and\n",
      "when to enter it. People can run your program, do some work, and then\n",
      "close the program and pick up where they left off later. Learning to handle\n",
      "exceptions will help you deal with situations in which files donâ€™t exist and\n",
      "deal with other problems that can cause your programs to crash. This will\n",
      "make your programs more robust when they encounter bad data,\n",
      "whether it comes from innocent mistakes or from malicious attempts to break your\n",
      "programs. With the skills you will learn in this chapter, you will make your programs\n",
      "more applicable, usable, and stable.\n"
     ]
    }
   ],
   "source": [
    "# to read line by line , use a for loop\n",
    "\n",
    "with open(filename) as file_object:\n",
    "    for line in file_object:\n",
    "        print(line.rstrip())\n",
    "        "
   ]
  },
  {
   "cell_type": "code",
   "execution_count": 3,
   "metadata": {
    "scrolled": true
   },
   "outputs": [
    {
     "name": "stdout",
     "output_type": "stream",
     "text": [
      "Now that you have mastered the basic skills you need to write organized programs that are easy to use,\n",
      "it is time to think about making your programs even more relevant and usable.\n",
      "In this chapter you will learn to work with files so your programs can quickly analyze lots of data.\n",
      "\n",
      "You will learn to handle errors so your programs do not crash when they encounter unexpected situations.\n",
      "You will learn about exceptions, which are special objects Python creates to manage errors that arise while a program is running.\n",
      "You will also learn about the json module, which allows you to save user data so it is not lost when your program stops running.\n",
      "\n",
      "Learning to work with files and save data will make your programs\n",
      "easier for people to use. Users will be able to choose what data to enter and\n",
      "when to enter it. People can run your program, do some work, and then\n",
      "close the program and pick up where they left off later. Learning to handle\n",
      "exceptions will help you deal with situations in which files donâ€™t exist and\n",
      "deal with other problems that can cause your programs to crash. This will\n",
      "make your programs more robust when they encounter bad data,\n",
      "whether it comes from innocent mistakes or from malicious attempts to break your\n",
      "programs. With the skills you will learn in this chapter, you will make your programs\n",
      "more applicable, usable, and stable.\n"
     ]
    }
   ],
   "source": [
    "# To access a file content outside the with block, line by line, store it in a list using readlines\n",
    "\n",
    "with open(filename) as file_object:\n",
    "    content = file_object.readlines()\n",
    "    \n",
    "for line in content:\n",
    "    print(line.rstrip())"
   ]
  },
  {
   "cell_type": "code",
   "execution_count": 4,
   "metadata": {},
   "outputs": [
    {
     "name": "stdout",
     "output_type": "stream",
     "text": [
      "Requirement already satisfied: textblob in c:\\users\\dm4\\anaconda3\\lib\\site-packages (0.15.3)\n",
      "Requirement already satisfied: nltk>=3.1 in c:\\users\\dm4\\anaconda3\\lib\\site-packages (from textblob) (3.4.4)\n",
      "Requirement already satisfied: six in c:\\users\\dm4\\anaconda3\\lib\\site-packages (from nltk>=3.1->textblob) (1.12.0)\n"
     ]
    }
   ],
   "source": [
    "! pip install textblob"
   ]
  },
  {
   "cell_type": "code",
   "execution_count": 5,
   "metadata": {},
   "outputs": [],
   "source": [
    "# after reading a file you can perform whatever you want on it\n",
    "#lets remove stopwords from the text using nltk\n",
    "\n",
    "from textblob import Word\n",
    "import nltk\n",
    "\n",
    "#nltk.download()\n",
    "from nltk.corpus import stopwords"
   ]
  },
  {
   "cell_type": "code",
   "execution_count": 6,
   "metadata": {},
   "outputs": [
    {
     "data": {
      "text/plain": [
       "['Now',\n",
       " 'mastered',\n",
       " 'basic',\n",
       " 'skill',\n",
       " 'need',\n",
       " 'write',\n",
       " 'organized',\n",
       " 'program',\n",
       " 'easy',\n",
       " 'use,',\n",
       " 'time',\n",
       " 'think',\n",
       " 'making',\n",
       " 'program',\n",
       " 'even',\n",
       " 'relevant',\n",
       " 'usable.',\n",
       " 'In',\n",
       " 'chapter',\n",
       " 'learn',\n",
       " 'work',\n",
       " 'file',\n",
       " 'program',\n",
       " 'quickly',\n",
       " 'analyze',\n",
       " 'lot',\n",
       " 'data.',\n",
       " 'You',\n",
       " 'learn',\n",
       " 'handle',\n",
       " 'error',\n",
       " 'program',\n",
       " 'crash',\n",
       " 'encounter',\n",
       " 'unexpected',\n",
       " 'situations.',\n",
       " 'You',\n",
       " 'learn',\n",
       " 'exceptions,',\n",
       " 'special',\n",
       " 'object',\n",
       " 'Python',\n",
       " 'creates',\n",
       " 'manage',\n",
       " 'error',\n",
       " 'arise',\n",
       " 'program',\n",
       " 'running.',\n",
       " 'You',\n",
       " 'also',\n",
       " 'learn',\n",
       " 'json',\n",
       " 'module,',\n",
       " 'allows',\n",
       " 'save',\n",
       " 'user',\n",
       " 'data',\n",
       " 'lost',\n",
       " 'program',\n",
       " 'stop',\n",
       " 'running.',\n",
       " 'Learning',\n",
       " 'work',\n",
       " 'file',\n",
       " 'save',\n",
       " 'data',\n",
       " 'make',\n",
       " 'program',\n",
       " 'easier',\n",
       " 'people',\n",
       " 'use.',\n",
       " 'Users',\n",
       " 'able',\n",
       " 'choose',\n",
       " 'data',\n",
       " 'enter',\n",
       " 'enter',\n",
       " 'it.',\n",
       " 'People',\n",
       " 'run',\n",
       " 'program,',\n",
       " 'work,',\n",
       " 'close',\n",
       " 'program',\n",
       " 'pick',\n",
       " 'left',\n",
       " 'later.',\n",
       " 'Learning',\n",
       " 'handle',\n",
       " 'exception',\n",
       " 'help',\n",
       " 'deal',\n",
       " 'situation',\n",
       " 'file',\n",
       " 'donâ€™t',\n",
       " 'exist',\n",
       " 'deal',\n",
       " 'problem',\n",
       " 'cause',\n",
       " 'program',\n",
       " 'crash.',\n",
       " 'This',\n",
       " 'make',\n",
       " 'program',\n",
       " 'robust',\n",
       " 'encounter',\n",
       " 'bad',\n",
       " 'data,',\n",
       " 'whether',\n",
       " 'come',\n",
       " 'innocent',\n",
       " 'mistake',\n",
       " 'malicious',\n",
       " 'attempt',\n",
       " 'break',\n",
       " 'programs.',\n",
       " 'With',\n",
       " 'skill',\n",
       " 'learn',\n",
       " 'chapter,',\n",
       " 'make',\n",
       " 'program',\n",
       " 'applicable,',\n",
       " 'usable,',\n",
       " 'stable.']"
      ]
     },
     "execution_count": 6,
     "metadata": {},
     "output_type": "execute_result"
    }
   ],
   "source": [
    "stop_words = stopwords.words(\"english\")\n",
    "\n",
    "lemma_list = []\n",
    "for line in content:\n",
    "    line_split = line.split()\n",
    "    for i in line_split:\n",
    "        if i not in stop_words:\n",
    "            lemma_list.append(Word(i).lemmatize()) # perform lemmatization\n",
    "lemma_list\n",
    "\n",
    "    "
   ]
  },
  {
   "cell_type": "code",
   "execution_count": 7,
   "metadata": {},
   "outputs": [
    {
     "data": {
      "text/plain": [
       "FreqDist({'program': 11, 'learn': 5, 'file': 3, 'You': 3, 'data': 3, 'make': 3, 'skill': 2, 'work': 2, 'handle': 2, 'error': 2, ...})"
      ]
     },
     "execution_count": 7,
     "metadata": {},
     "output_type": "execute_result"
    }
   ],
   "source": [
    "# lets calculate the frequency of unique words\n",
    "from nltk.probability import FreqDist\n",
    "\n",
    "frequency_dist = nltk.FreqDist(lemma_list)\n",
    "frequency_dist"
   ]
  },
  {
   "cell_type": "code",
   "execution_count": 8,
   "metadata": {
    "scrolled": true
   },
   "outputs": [
    {
     "name": "stdout",
     "output_type": "stream",
     "text": [
      "93\n"
     ]
    },
    {
     "data": {
      "text/plain": [
       "['program',\n",
       " 'learn',\n",
       " 'file',\n",
       " 'You',\n",
       " 'data',\n",
       " 'make',\n",
       " 'skill',\n",
       " 'work',\n",
       " 'handle',\n",
       " 'error',\n",
       " 'encounter',\n",
       " 'running.',\n",
       " 'save',\n",
       " 'Learning',\n",
       " 'enter',\n",
       " 'deal',\n",
       " 'Now',\n",
       " 'mastered',\n",
       " 'basic',\n",
       " 'need',\n",
       " 'write',\n",
       " 'organized',\n",
       " 'easy',\n",
       " 'use,',\n",
       " 'time',\n",
       " 'think',\n",
       " 'making',\n",
       " 'even',\n",
       " 'relevant',\n",
       " 'usable.',\n",
       " 'In',\n",
       " 'chapter',\n",
       " 'quickly',\n",
       " 'analyze',\n",
       " 'lot',\n",
       " 'data.',\n",
       " 'crash',\n",
       " 'unexpected',\n",
       " 'situations.',\n",
       " 'exceptions,',\n",
       " 'special',\n",
       " 'object',\n",
       " 'Python',\n",
       " 'creates',\n",
       " 'manage',\n",
       " 'arise',\n",
       " 'also',\n",
       " 'json',\n",
       " 'module,',\n",
       " 'allows',\n",
       " 'user',\n",
       " 'lost',\n",
       " 'stop',\n",
       " 'easier',\n",
       " 'people',\n",
       " 'use.',\n",
       " 'Users',\n",
       " 'able',\n",
       " 'choose',\n",
       " 'it.',\n",
       " 'People',\n",
       " 'run',\n",
       " 'program,',\n",
       " 'work,',\n",
       " 'close',\n",
       " 'pick',\n",
       " 'left',\n",
       " 'later.',\n",
       " 'exception',\n",
       " 'help',\n",
       " 'situation',\n",
       " 'donâ€™t',\n",
       " 'exist',\n",
       " 'problem',\n",
       " 'cause',\n",
       " 'crash.',\n",
       " 'This',\n",
       " 'robust',\n",
       " 'bad',\n",
       " 'data,',\n",
       " 'whether',\n",
       " 'come',\n",
       " 'innocent',\n",
       " 'mistake',\n",
       " 'malicious',\n",
       " 'attempt',\n",
       " 'break',\n",
       " 'programs.',\n",
       " 'With',\n",
       " 'chapter,',\n",
       " 'applicable,',\n",
       " 'usable,',\n",
       " 'stable.']"
      ]
     },
     "execution_count": 8,
     "metadata": {},
     "output_type": "execute_result"
    }
   ],
   "source": [
    "# sort the  frequency distribution\n",
    "\n",
    "sorted_frequency_dist = sorted(frequency_dist, key = frequency_dist.__getitem__, reverse = True)\n",
    "print(len(sorted_frequency_dist))\n",
    "sorted_frequency_dist"
   ]
  },
  {
   "cell_type": "code",
   "execution_count": 9,
   "metadata": {},
   "outputs": [
    {
     "name": "stdout",
     "output_type": "stream",
     "text": [
      "32\n"
     ]
    },
    {
     "data": {
      "text/plain": [
       "FreqDist({'program': 11, 'encounter': 2, 'running.': 2, 'Learning': 2, 'mastered': 1, 'organized': 1, 'relevant': 1, 'usable.': 1, 'chapter': 1, 'quickly': 1, ...})"
      ]
     },
     "execution_count": 9,
     "metadata": {},
     "output_type": "execute_result"
    }
   ],
   "source": [
    "#lets plot a graph of words greater than 6\n",
    "\n",
    "words_greater_than_6 = dict([(k,v) for k,v in frequency_dist.items() if len(k)>6])\n",
    "\n",
    "frequency_dist2 = nltk.FreqDist(words_greater_than_6)\n",
    "print(len(frequency_dist2))\n",
    "frequency_dist2"
   ]
  },
  {
   "cell_type": "code",
   "execution_count": 10,
   "metadata": {},
   "outputs": [
    {
     "data": {
      "text/plain": [
       "<Figure size 640x480 with 1 Axes>"
      ]
     },
     "metadata": {},
     "output_type": "display_data"
    },
    {
     "data": {
      "text/plain": [
       "<matplotlib.axes._subplots.AxesSubplot at 0x1f1adf97588>"
      ]
     },
     "execution_count": 10,
     "metadata": {},
     "output_type": "execute_result"
    }
   ],
   "source": [
    "# plot a histogram for frequency_dist2\n",
    "\n",
    "frequency_dist2.plot(20, cumulative = False)"
   ]
  },
  {
   "cell_type": "code",
   "execution_count": 11,
   "metadata": {
    "scrolled": true
   },
   "outputs": [
    {
     "name": "stdout",
     "output_type": "stream",
     "text": [
      "6\n",
      "<FreqDist with 6 samples and 28 outcomes>\n"
     ]
    },
    {
     "data": {
      "image/png": "[encoded data removed]",
      "text/plain": [
       "<Figure size 432x288 with 1 Axes>"
      ]
     },
     "metadata": {
      "needs_background": "light"
     },
     "output_type": "display_data"
    },
    {
     "data": {
      "text/plain": [
       "<matplotlib.axes._subplots.AxesSubplot at 0x1f1ae08c320>"
      ]
     },
     "execution_count": 11,
     "metadata": {},
     "output_type": "execute_result"
    }
   ],
   "source": [
    "#plot a histogram for words with frequency distribution greater\n",
    "\n",
    "freq_dist_greater_than_2 = dict([(k,v) for k,v in frequency_dist.items() if v>2])\n",
    "\n",
    "frequency_dist3 = nltk.FreqDist(freq_dist_greater_than_2)\n",
    "print(len(frequency_dist3))\n",
    "print(frequency_dist3)\n",
    "\n",
    "frequency_dist3.plot(50, cumulative = False)"
   ]
  },
  {
   "cell_type": "code",
   "execution_count": 12,
   "metadata": {},
   "outputs": [
    {
     "data": {
      "image/png": "[encoded data removed]",
      "text/plain": [
       "<Figure size 432x288 with 1 Axes>"
      ]
     },
     "metadata": {
      "needs_background": "light"
     },
     "output_type": "display_data"
    },
    {
     "data": {
      "text/plain": [
       "<matplotlib.axes._subplots.AxesSubplot at 0x1f1ae0f6780>"
      ]
     },
     "execution_count": 12,
     "metadata": {},
     "output_type": "execute_result"
    }
   ],
   "source": [
    "frequency_dist3.plot(50)"
   ]
  },
  {
   "cell_type": "code",
   "execution_count": 13,
   "metadata": {
    "scrolled": true
   },
   "outputs": [
    {
     "data": {
      "image/png": "[encoded data removed]",
      "text/plain": [
       "<Figure size 432x288 with 1 Axes>"
      ]
     },
     "metadata": {
      "needs_background": "light"
     },
     "output_type": "display_data"
    }
   ],
   "source": [
    "# generate word cloud from freq distribution\n",
    "\n",
    "from wordcloud import WordCloud\n",
    "import matplotlib.pyplot as plt\n",
    "\n",
    "word_cloud = WordCloud().generate_from_frequencies(frequency_dist)\n",
    "\n",
    "plt.imshow(word_cloud, interpolation=\"bilinear\")\n",
    "plt.axis(\"off\")\n",
    "plt.show()"
   ]
  },
  {
   "cell_type": "code",
   "execution_count": 14,
   "metadata": {
    "scrolled": true
   },
   "outputs": [
    {
     "data": {
      "text/plain": [
       "<wordcloud.wordcloud.WordCloud at 0x1f1ae18e780>"
      ]
     },
     "execution_count": 14,
     "metadata": {},
     "output_type": "execute_result"
    }
   ],
   "source": [
    "word_cloud.to_file(\"wc.png\")"
   ]
  },
  {
   "cell_type": "markdown",
   "metadata": {},
   "source": [
    "### WRITING TO A FILE\n",
    "\n",
    "#### The open() function automatically creates the file you’re writing to if it doesn’t already exist. Note that, if an existing file is open in write mode ('w'), Python will erase the file before returning the file object."
   ]
  },
  {
   "cell_type": "code",
   "execution_count": 15,
   "metadata": {},
   "outputs": [],
   "source": [
    "# Writing to a file\n",
    "\n",
    "filename = 'programming.txt'\n",
    "\n",
    "with open(filename, 'w') as file_object:\n",
    "    file_object.write(\"I love programming.\")\n",
    "    \n",
    "# you can also print into a file e.g print(\"Hello There!\", file=file_object)\n",
    "\n",
    "\n"
   ]
  }
 ],
 "metadata": {
  "kernelspec": {
   "display_name": "Python 3",
   "language": "python",
   "name": "python3"
  },
  "language_info": {
   "codemirror_mode": {
    "name": "ipython",
    "version": 3
   },
   "file_extension": ".py",
   "mimetype": "text/x-python",
   "name": "python",
   "nbconvert_exporter": "python",
   "pygments_lexer": "ipython3",
   "version": "3.7.3"
  }
 },
 "nbformat": 4,
 "nbformat_minor": 2
}
