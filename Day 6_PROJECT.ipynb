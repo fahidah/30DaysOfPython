{
 "cells": [
  {
   "cell_type": "code",
   "execution_count": 1,
   "metadata": {},
   "outputs": [],
   "source": [
    "# Fashion Store\n",
    "\n",
    "products = {\"Shirts\": [300, 6], \"Trousers\": [500, 3],\n",
    "            \"Body Cream\": [250, 7], \"Jewelries\": [400, 5],\n",
    "            \"Ladies Shoes\": [700, 3], \"Sunglasses\": [600, 2],\n",
    "            \"Leather Belt\": [450, 0], \"Make Up kit\": [1300,4],\n",
    "            \"Handbags\": [900, 6], \"Perfume\": [1000, 2]}\n"
   ]
  },
  {
   "cell_type": "code",
   "execution_count": 2,
   "metadata": {
    "scrolled": true
   },
   "outputs": [
    {
     "name": "stdout",
     "output_type": "stream",
     "text": [
      "Please provide your details below!\n",
      "First name: Fa\n",
      "Last name: Abdul\n",
      "Age: 67\n",
      "Telephone number: 234567890\n",
      "\n"
     ]
    }
   ],
   "source": [
    "# User data\n",
    "\n",
    "print(\"Please provide your details below!\")\n",
    "\n",
    "f_name = input(\"First name: \").upper()\n",
    "l_name = input(\"Last name: \").upper()\n",
    "age = int(input(\"Age: \"))\n",
    "phone = input(\"Telephone number: \")\n",
    "print()"
   ]
  },
  {
   "cell_type": "code",
   "execution_count": 3,
   "metadata": {},
   "outputs": [
    {
     "name": "stdout",
     "output_type": "stream",
     "text": [
      "Welcome FA,It is good to have you!\n",
      "Make you selection from the items display below:\n",
      "\n",
      "S/N \t PRODUCTS \t PRICES \t QUANTITY\n",
      "1 \t Shirts \t 300 \t\t 6\n",
      "2 \t Trousers \t 500 \t\t 3\n",
      "3 \t Body Cream \t 250 \t\t 7\n",
      "4 \t Jewelries \t 400 \t\t 5\n",
      "5 \t Ladies Shoes \t 700 \t\t 3\n",
      "6 \t Sunglasses \t 600 \t\t 2\n",
      "7 \t Leather Belt \t 450 \t\t 0\n",
      "8 \t Make Up kit \t 1300 \t\t 4\n",
      "9 \t Handbags \t 900 \t\t 6\n",
      "10 \t Perfume \t 1000 \t\t 2\n",
      "\n",
      "Product: leather belt\n",
      "Quantity: 3\n",
      "Sorry, the product is current not available!\n"
     ]
    }
   ],
   "source": [
    "count = 1\n",
    "item_count = 0\n",
    "\n",
    "\n",
    "if age < 18:\n",
    "    print(f\"Hi {f_name}, We are sorry you can't shop with us.\")\n",
    "    print(\"You need a guardian to come with you!!!\")\n",
    "else:\n",
    "    print(f\"Welcome {f_name},It is good to have you!\")\n",
    "    \n",
    "    items = list(products.keys())\n",
    "    \n",
    "    \n",
    "    print(\"Make you selection from the items display below:\")\n",
    "    print()\n",
    "    print(\"S/N \\t PRODUCTS \\t PRICES \\t QUANTITY\")\n",
    "    \n",
    "    for i in list(products.values()):\n",
    "        print(count, \"\\t\", items[item_count], \"\\t\", i[0], \"\\t\\t\", i[1])\n",
    "        count += 1\n",
    "        item_count += 1\n",
    "        \n",
    "    print()\n",
    "    product = input(\"Product: \").title()\n",
    "    qty = int(input(\"Quantity: \"))\n",
    "    \n",
    "    \n",
    "    if product in products:\n",
    "        if (products[product][1] == 0):\n",
    "            print(\"Sorry, the product is current not available!\")\n",
    "        elif (qty <= products[product][1]):\n",
    "                total =  products[product][0] * qty\n",
    "                print(f\"Total Payable: {total}\")\n",
    "        else:\n",
    "            print(\"We do not have up to that quantity!\")\n",
    "    else:\n",
    "        print(\"No such Product!\")\n",
    "            "
   ]
  },
  {
   "cell_type": "code",
   "execution_count": 4,
   "metadata": {},
   "outputs": [
    {
     "name": "stdout",
     "output_type": "stream",
     "text": [
      "THANK YOU FOR PATRONIZING US, ABDUL. \n",
      "We hope to see you again soon!\n"
     ]
    }
   ],
   "source": [
    "print(f\"THANK YOU FOR PATRONIZING US, {l_name}. \\nWe hope to see you again soon!\")"
   ]
  }
 ],
 "metadata": {
  "kernelspec": {
   "display_name": "Python 3",
   "language": "python",
   "name": "python3"
  },
  "language_info": {
   "codemirror_mode": {
    "name": "ipython",
    "version": 3
   },
   "file_extension": ".py",
   "mimetype": "text/x-python",
   "name": "python",
   "nbconvert_exporter": "python",
   "pygments_lexer": "ipython3",
   "version": "3.7.3"
  }
 },
 "nbformat": 4,
 "nbformat_minor": 2
}
