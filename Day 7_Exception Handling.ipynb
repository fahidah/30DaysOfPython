{
 "cells": [
  {
   "cell_type": "markdown",
   "metadata": {},
   "source": [
    "## EXCEPTION HANDLING\n",
    "\n",
    "### Exception is a special object in python that is used to manage errors that arise during a program’s execution"
   ]
  },
  {
   "cell_type": "code",
   "execution_count": 1,
   "metadata": {},
   "outputs": [
    {
     "data": {
      "text/plain": [
       "'\\n! pip install phonenumbers\\n! pip install phone-iso3166\\n! pip install pycountry'"
      ]
     },
     "execution_count": 1,
     "metadata": {},
     "output_type": "execute_result"
    }
   ],
   "source": [
    "# install needed libraries\n",
    "\"\"\"\n",
    "! pip install phonenumbers\n",
    "! pip install phone-iso3166\n",
    "! pip install pycountry\"\"\""
   ]
  },
  {
   "cell_type": "code",
   "execution_count": 2,
   "metadata": {},
   "outputs": [],
   "source": [
    "#import the needed libraries\n",
    "\n",
    "import phonenumbers\n",
    "from phonenumbers import carrier, geocoder, timezone\n",
    "import pycountry\n",
    "from phone_iso3166.country import *"
   ]
  },
  {
   "cell_type": "code",
   "execution_count": 3,
   "metadata": {},
   "outputs": [
    {
     "name": "stdout",
     "output_type": "stream",
     "text": [
      "Enter your telephone number with the country code!\n",
      "PHONE: +2348189704235\n"
     ]
    }
   ],
   "source": [
    "print(\"Enter your telephone number with the country code!\")\n",
    "\n",
    "while True:\n",
    "    phone = input(\"PHONE: +\")\n",
    "    try:\n",
    "        int(phone)\n",
    "        break\n",
    "    except ValueError:\n",
    "        print(\"Please Enter phone digits!!\")\n",
    "    "
   ]
  },
  {
   "cell_type": "code",
   "execution_count": 8,
   "metadata": {},
   "outputs": [
    {
     "ename": "NumberParseException",
     "evalue": "(1) The string supplied did not seem to be a phone number.",
     "output_type": "error",
     "traceback": [
      "\u001b[1;31m---------------------------------------------------------------------------\u001b[0m",
      "\u001b[1;31mNumberParseException\u001b[0m                      Traceback (most recent call last)",
      "\u001b[1;32m<ipython-input-8-2a37e5cdf823>\u001b[0m in \u001b[0;36m<module>\u001b[1;34m\u001b[0m\n\u001b[0;32m      1\u001b[0m \u001b[1;31m# telephone number\u001b[0m\u001b[1;33m\u001b[0m\u001b[1;33m\u001b[0m\u001b[1;33m\u001b[0m\u001b[0m\n\u001b[0;32m      2\u001b[0m \u001b[1;33m\u001b[0m\u001b[0m\n\u001b[1;32m----> 3\u001b[1;33m \u001b[0mphone\u001b[0m \u001b[1;33m=\u001b[0m \u001b[0mphonenumbers\u001b[0m\u001b[1;33m.\u001b[0m\u001b[0mparse\u001b[0m\u001b[1;33m(\u001b[0m\u001b[1;33m(\u001b[0m\u001b[1;34m\"+\"\u001b[0m \u001b[1;33m+\u001b[0m \u001b[0mstr\u001b[0m\u001b[1;33m(\u001b[0m\u001b[0mphone\u001b[0m\u001b[1;33m)\u001b[0m\u001b[1;33m)\u001b[0m\u001b[1;33m,\u001b[0m \u001b[1;32mNone\u001b[0m\u001b[1;33m)\u001b[0m\u001b[1;33m\u001b[0m\u001b[1;33m\u001b[0m\u001b[0m\n\u001b[0m\u001b[0;32m      4\u001b[0m \u001b[1;33m\u001b[0m\u001b[0m\n\u001b[0;32m      5\u001b[0m \u001b[0mprint\u001b[0m\u001b[1;33m(\u001b[0m\u001b[1;34m\"\"\u001b[0m\u001b[1;33m)\u001b[0m\u001b[1;33m\u001b[0m\u001b[1;33m\u001b[0m\u001b[0m\n",
      "\u001b[1;32m~\\Anaconda3\\lib\\site-packages\\phonenumbers\\phonenumberutil.py\u001b[0m in \u001b[0;36mparse\u001b[1;34m(number, region, keep_raw_input, numobj, _check_region)\u001b[0m\n\u001b[0;32m   2798\u001b[0m     \u001b[1;32mif\u001b[0m \u001b[1;32mnot\u001b[0m \u001b[0m_is_viable_phone_number\u001b[0m\u001b[1;33m(\u001b[0m\u001b[0mnational_number\u001b[0m\u001b[1;33m)\u001b[0m\u001b[1;33m:\u001b[0m\u001b[1;33m\u001b[0m\u001b[1;33m\u001b[0m\u001b[0m\n\u001b[0;32m   2799\u001b[0m         raise NumberParseException(NumberParseException.NOT_A_NUMBER,\n\u001b[1;32m-> 2800\u001b[1;33m                                    \"The string supplied did not seem to be a phone number.\")\n\u001b[0m\u001b[0;32m   2801\u001b[0m \u001b[1;33m\u001b[0m\u001b[0m\n\u001b[0;32m   2802\u001b[0m     \u001b[1;31m# Check the region supplied is valid, or that the extracted number starts\u001b[0m\u001b[1;33m\u001b[0m\u001b[1;33m\u001b[0m\u001b[1;33m\u001b[0m\u001b[0m\n",
      "\u001b[1;31mNumberParseException\u001b[0m: (1) The string supplied did not seem to be a phone number."
     ]
    }
   ],
   "source": [
    "# telephone number\n",
    "print()\n",
    "phone = phonenumbers.parse((\"+\" + phone), None)\n",
    "\n",
    "print(\"\")\n",
    "print(\"POSSIBLE NUMBER: \", phonenumbers.is_possible_number(phone))\n",
    "print(\"VALID NUMBER: \",phonenumbers.is_valid_number(phone))\n",
    "print(\"REGION CODE: \",phonenumbers.region_code_for_number(phone))\n",
    "\n",
    "geo_code = phonenumbers.region_code_for_number(phone)\n",
    "\n",
    "country = pycountry.countries.get(alpha_2 = geo_code)\n",
    "print(\"\")\n",
    "print(\"COUNTRY: \",country.official_name)\n",
    "\n",
    "print(\"STATES: \",len(pycountry.subdivisions.get(country_code= geo_code)))\n",
    "\n",
    "#print(pycountry.subdivisions.get(country_code=geo_code))\n",
    "\n",
    "\n",
    "carrier_name = carrier.name_for_number(phone, \"en\")\n",
    "print(\"\")\n",
    "print(\"NETWORK: \", carrier_name)\n",
    "print(\"TIME ZONE: \", timezone.time_zones_for_number(phone))\n",
    "\n",
    "currency = pycountry.currencies.get(alpha_3= geo_code)\n",
    "print(\"\")\n",
    "print(\"CURRENCY: \", currency)"
   ]
  },
  {
   "cell_type": "code",
   "execution_count": 5,
   "metadata": {},
   "outputs": [
    {
     "name": "stdout",
     "output_type": "stream",
     "text": [
      "AKWA IBOM\n",
      "\n",
      "KANO\n",
      "\n",
      "ANAMBRA\n",
      "\n",
      "KOGI\n",
      "\n",
      "BAUCHI\n",
      "\n",
      "KATSINA\n",
      "\n",
      "BENUE\n",
      "\n",
      "KWARA\n",
      "\n",
      "BORNO\n",
      "\n",
      "LAGOS\n",
      "\n",
      "BAYELSA\n",
      "\n",
      "NASSARAWA\n",
      "\n",
      "CROSS RIVER\n",
      "\n",
      "NIGER\n",
      "\n",
      "DELTA\n",
      "\n",
      "OGUN\n",
      "\n",
      "EBONYI\n",
      "\n",
      "ONDO\n",
      "\n",
      "EDO\n",
      "\n",
      "OSUN\n",
      "\n",
      "EKITI\n",
      "\n",
      "OYO\n",
      "\n",
      "ENUGU\n",
      "\n",
      "PLATEAU\n",
      "\n",
      "ABUJA CAPITAL TERRITORY\n",
      "\n",
      "RIVERS\n",
      "\n",
      "GOMBE\n",
      "\n",
      "SOKOTO\n",
      "\n",
      "IMO\n",
      "\n",
      "TARABA\n",
      "\n",
      "JIGAWA\n",
      "\n",
      "YOBE\n",
      "\n",
      "KADUNA\n",
      "\n",
      "ABIA\n",
      "\n",
      "ZAMFARA\n",
      "\n",
      "KEBBI\n",
      "\n",
      "ADAMAWA\n",
      "\n"
     ]
    }
   ],
   "source": [
    "states = pycountry.subdivisions.get(country_code=geo_code)\n",
    "\n",
    "for state in states:\n",
    "    print(state.name.upper())\n",
    "    \"\"\"for lga in states:\n",
    "        lg = lga.code\n",
    "        local_govt = pycountry.subdivisions.get(country_code=lg)\n",
    "        print(local_govt)\"\"\"\n",
    "        \n",
    "    print(\"\")"
   ]
  }
 ],
 "metadata": {
  "kernelspec": {
   "display_name": "Python 3",
   "language": "python",
   "name": "python3"
  },
  "language_info": {
   "codemirror_mode": {
    "name": "ipython",
    "version": 3
   },
   "file_extension": ".py",
   "mimetype": "text/x-python",
   "name": "python",
   "nbconvert_exporter": "python",
   "pygments_lexer": "ipython3",
   "version": "3.7.3"
  }
 },
 "nbformat": 4,
 "nbformat_minor": 2
}
