{
 "cells": [
  {
   "cell_type": "code",
   "execution_count": null,
   "metadata": {
    "scrolled": true
   },
   "outputs": [],
   "source": [
    "steps = int(input(\"How many steps do u want: \"))\n",
    "\n",
    "for i in range(1, steps+1):\n",
    "    for j in range(1, i+1):\n",
    "        print(j, \" \", end=\"\")\n",
    "    print()"
   ]
  },
  {
   "cell_type": "code",
   "execution_count": null,
   "metadata": {
    "scrolled": true
   },
   "outputs": [],
   "source": [
    "k = steps -2\n",
    "for i in range(steps, -1,-1):\n",
    "    for j in range(k,1,-1):\n",
    "        print(end=\" \")\n",
    "    k = k+1\n",
    "    for j in range(1, i+1):\n",
    "        print(j,end=\" \")\n",
    "    print(\" \")"
   ]
  },
  {
   "cell_type": "code",
   "execution_count": null,
   "metadata": {},
   "outputs": [],
   "source": [
    "# Guess the number\n",
    "\n",
    "number = 4\n",
    "while True:\n",
    "    guess = int(input(\"Guess the number btw 1 to 10: \"))\n",
    " \n",
    "    if guess == number:\n",
    "        print(\"GOOD GUESS\")\n",
    "        break\n",
    "    else:\n",
    "        print(\"TRY AGAIN\")\n",
    "    "
   ]
  }
 ],
 "metadata": {
  "kernelspec": {
   "display_name": "Python 3",
   "language": "python",
   "name": "python3"
  },
  "language_info": {
   "codemirror_mode": {
    "name": "ipython",
    "version": 3
   },
   "file_extension": ".py",
   "mimetype": "text/x-python",
   "name": "python",
   "nbconvert_exporter": "python",
   "pygments_lexer": "ipython3",
   "version": "3.7.3"
  }
 },
 "nbformat": 4,
 "nbformat_minor": 2
}
