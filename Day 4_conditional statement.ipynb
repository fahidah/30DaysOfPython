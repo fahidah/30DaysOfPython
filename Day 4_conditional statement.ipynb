{
 "cells": [
  {
   "cell_type": "code",
   "execution_count": 1,
   "metadata": {},
   "outputs": [
    {
     "name": "stdout",
     "output_type": "stream",
     "text": [
      "Enter a number between 1 and 10:\n",
      "2:5\n",
      "3:9\n",
      "4:9\n",
      "Youve entered that number!\n",
      "4:7\n",
      "5:0\n"
     ]
    }
   ],
   "source": [
    "i=1\n",
    "user = []\n",
    "print(\"Enter a number between 1 and 10:\")\n",
    "while i<5:\n",
    "    user_input = int(input(str(i+1) + \":\"))\n",
    "    \n",
    "    if user_input in user:\n",
    "        print(\"Youve entered that number!\")\n",
    "        \n",
    "    else:\n",
    "        user.append(user_input)\n",
    "        i +=1"
   ]
  }
 ],
 "metadata": {
  "kernelspec": {
   "display_name": "Python 3",
   "language": "python",
   "name": "python3"
  },
  "language_info": {
   "codemirror_mode": {
    "name": "ipython",
    "version": 3
   },
   "file_extension": ".py",
   "mimetype": "text/x-python",
   "name": "python",
   "nbconvert_exporter": "python",
   "pygments_lexer": "ipython3",
   "version": "3.7.3"
  }
 },
 "nbformat": 4,
 "nbformat_minor": 2
}
